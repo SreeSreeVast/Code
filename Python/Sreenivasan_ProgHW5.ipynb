{
 "cells": [
  {
   "cell_type": "markdown",
   "metadata": {},
   "source": [
    "# Problem 1\n",
    "(Exercise 3.3-4) Use Python and Cholesky decompositon to solve the following linear system:\n",
    "$$\n",
    "\\begin{bmatrix}\n",
    "4 & -6 & 2 \\\\\n",
    "-6 & 34 & 12 \\\\\n",
    "2 & 12 & 14\n",
    "\\end{bmatrix}\n",
    "\\begin{bmatrix}\n",
    "x_1 \\\\\n",
    "x_2 \\\\\n",
    "x_3\n",
    "\\end{bmatrix}\n",
    "\\begin{bmatrix}\n",
    "-24 \\\\\n",
    "126 \\\\\n",
    "46\n",
    "\\end{bmatrix}.\n",
    "$$"
   ]
  },
  {
   "cell_type": "code",
   "execution_count": 1,
   "metadata": {},
   "outputs": [
    {
     "name": "stdout",
     "output_type": "stream",
     "text": [
      "R =  [[ 2. -3.  1.]\n",
      " [ 0.  5.  3.]\n",
      " [ 0.  0.  2.]]\n",
      "RT x R =  [[ 4. -6.  2.]\n",
      " [-6. 34. 12.]\n",
      " [ 2. 12. 14.]]\n"
     ]
    }
   ],
   "source": [
    "import numpy as np\n",
    "def chol(A):\n",
    "    \"\"\"\n",
    "    Perform Cholesky algorithm for a symmetric positive-definite \n",
    "    matrix A\n",
    "    A: symmetric positive-definite matrix. A is changed in place in this code\n",
    "    Return: R, an upper-triangular matrix such that A=R^TR\n",
    "    \"\"\"\n",
    "    if not np.array_equal(A.T,A):\n",
    "        print('Error: the matrix A is not symmetric!')\n",
    "        return\n",
    "        \n",
    "    n = A.shape[0]\n",
    "    R = np.zeros((n,n))\n",
    "    for k in range(n):\n",
    "        if A[k,k]<0:\n",
    "            print('Error: the matrix is no positive-definite!')\n",
    "            return\n",
    "        R[k,k] = np.sqrt(A[k,k])\n",
    "        u = A[k,k+1:n]/R[k,k]\n",
    "        R[k,k+1:n] = u\n",
    "        A[k+1:n, k+1:n] -= np.outer(u,u)\n",
    "        \n",
    "    return R\n",
    "\n",
    "#output\n",
    "A = np.array([[4., -6, 2], [-6., 34, 12], [2., 12, 14]])\n",
    "B = np.array([-24., 126., 46.])\n",
    "R = chol(A)\n",
    "print('R = ', R)\n",
    "print('RT x R = ', R.T.dot(R))"
   ]
  },
  {
   "cell_type": "markdown",
   "metadata": {},
   "source": [
    "# Problem 2\n",
    "(Exercise 4.1-6) Consider a function $f(x)$ such that $f(2)=1.5713$, $f(3)=1.5719,f(5)=1.5738,$\n",
    "and $f(6)=1.5751.$ Estimate $f(4)$ using a second degree interpolating\n",
    "polynomial (interpolating the first three data points) and a third degree interpolating polynomial (interpolating the first four data points). Round the\n",
    "final results to four decimal places. Is there any advantage here\n",
    "in using a third degree interpolating polynomial?"
   ]
  },
  {
   "cell_type": "code",
   "execution_count": 3,
   "metadata": {},
   "outputs": [
    {
     "name": "stdout",
     "output_type": "stream",
     "text": [
      "1.5727\n",
      "1.5727\n"
     ]
    }
   ],
   "source": [
    "def diff(x, y):\n",
    "    m = x.size # here m is the number of data points.\n",
    "    # the degree of the polynomial is m-1\n",
    "    a = np.zeros(m)\n",
    "    for i in range(m):\n",
    "        a[i] = y[i]\n",
    "    for j in range(1, m):\n",
    "        for i in np.flip(np.arange(j,m)):\n",
    "            a[i] = (a[i]-a[i-1]) / (x[i]-x[i-(j)])\n",
    "    return a\n",
    "\n",
    "def newton(x, y, z):\n",
    "    m = x.size # here m is the number of data points, not the degree\n",
    "    # of the polynomial\n",
    "    a = diff(x, y)\n",
    "    sum = a[0]\n",
    "    pr = 1.0\n",
    "    for j in range(m-1):\n",
    "        pr *= (z-x[j])\n",
    "        sum += a[j+1]*pr\n",
    "    return sum\n",
    "\n",
    "#output\n",
    "number = newton(np.array([2,3,5]),np.array([1.5713,1.5719,1.5738]), 4)\n",
    "print(round(number, 4))\n",
    "number1 = newton(np.array([2,3,5,6]), np.array([1.5713,1.5719,1.5738, 1.5751]), 4)\n",
    "print(round(number1, 4))"
   ]
  },
  {
   "cell_type": "code",
   "execution_count": 5,
   "metadata": {},
   "outputs": [],
   "source": [
    "#There is no advantage as the results are the same even when usign a third degree interpolating polynomial"
   ]
  },
  {
   "cell_type": "markdown",
   "metadata": {},
   "source": [
    "# Problem 3\n",
    "(Exercise 4.1-7) This problem discusses inverse interpolation which gives another method\n",
    "to find the root of a function. Let $f$ be a continuous function on $[a, b]$ with one root $p$ in the interval. Also assume $f$ has an inverse. Let $x_0, x_1, \\dots, x_n$ be $n + 1$ distinct numbers in $[a, b]$ with\n",
    "$f(x_i) = y_i$, $i = 0, 1,\\dots, n$. Construct an interpolating polynomial $P_n$ for $f^{-1}(x)$, by taking your data\n",
    "points as $(y_i, x_i)$, $i = 0, 1, \\dots, n$. Observe that $f^{-1}(0) = p$, the root we are trying to find. Then, approximate the root $p$, by evaluating the interpolating polynomial for $f^{-1}$ at $0$, i.e., $P_n(0)\\approx p$. Using this method, and the following data, find an approximation to the solution of $\\log x = 0$.\n",
    "\n",
    "| $x$ | 0.4 | 0.8 | 1.2 | 1.6|\n",
    "| --- | --- | --- |--- |---|\n",
    "| $\\log{x}$ | -0.92 | -0.22 | 0.18 | 0.47 |"
   ]
  },
  {
   "cell_type": "code",
   "execution_count": 31,
   "metadata": {},
   "outputs": [
    {
     "data": {
      "text/plain": [
       "1.0003748095119962"
      ]
     },
     "execution_count": 31,
     "metadata": {},
     "output_type": "execute_result"
    }
   ],
   "source": [
    "def diff(x, y):\n",
    "    m = x.size # here m is the number of data points.\n",
    "    # the degree of the polynomial is m-1\n",
    "    a = np.zeros(m)\n",
    "    for i in range(m):\n",
    "        a[i] = y[i]\n",
    "    for j in range(1, m):\n",
    "        for i in np.flip(np.arange(j,m)):\n",
    "            a[i] = (a[i]-a[i-1]) / (x[i]-x[i-(j)])\n",
    "    return a\n",
    "def newton(x, y, z):\n",
    "    m = x.size # here m is the number of data points, not the degree\n",
    "    # of the polynomial\n",
    "    a = diff(x, y)\n",
    "    sum = a[0]\n",
    "    pr = 1.0\n",
    "    for j in range(m-1):\n",
    "        pr *= (z-x[j])\n",
    "        sum += a[j+1]*pr\n",
    "    return sum\n",
    "newton(np.array([-0.92,-0.22,0.18,0.47]),\n",
    "       np.array([0.4,0.8,1.2,1.6]), 0)"
   ]
  },
  {
   "cell_type": "markdown",
   "metadata": {},
   "source": [
    "# Problem 4\n",
    "\n",
    "(Exercise 4.3-1) The following table gives the values of $y=f(x)$ and $y'=f'(x)$ where $f(x)=e^x+\\sin 10x$. Compute the Hermite interpolating polynomial and the polynomial interpolant for the data in the table. Plot the two interpolating polynomials together with $f(x)=e^x+\\sin 10x$ on $(0,3)$.\n",
    "\n",
    "| $x$ | 0 | 0.4 | 1 | 2 | 2.6 | 3 |\n",
    "| --- | --- | --- | --- | ---| --- | --- |\n",
    "| $y$ | 1 | 0.735 | 2.17 | 8.30 | 14.2 | 19.1 |\n",
    "| $y'$ | 11 | -5.04 | -5.67 | 11.5 | 19.9 | 21.6 |"
   ]
  },
  {
   "cell_type": "code",
   "execution_count": 30,
   "metadata": {},
   "outputs": [
    {
     "name": "stdout",
     "output_type": "stream",
     "text": [
      "[  1.          11.         -29.15625     45.53125    -22.20138889\n",
      " -44.16550926  47.86348018 -44.73344817  25.93704811 -14.27625029\n",
      "   5.72221598  -0.60719316]\n"
     ]
    },
    {
     "data": {
      "image/png": "[encoded data removed]",
      "text/plain": [
       "<Figure size 432x288 with 1 Axes>"
      ]
     },
     "metadata": {
      "needs_background": "light"
     },
     "output_type": "display_data"
    }
   ],
   "source": [
    "import numpy as np\n",
    "import matplotlib.pyplot as plt\n",
    "%matplotlib inline\n",
    "#hermite\n",
    "def hdiff(x, y, yprime):\n",
    "    m = x.size # here m is the number of data points. Note n=m-1\n",
    "    # and 2n+1=2m-1\n",
    "    l = 2*m\n",
    "    z = np.zeros(l)\n",
    "    a = np.zeros(l)\n",
    "    for i in range(m):\n",
    "        z[2*i] = x[i]\n",
    "        z[2*i+1] = x[i]\n",
    "    for i in range(m):\n",
    "        a[2*i] = y[i]\n",
    "        a[2*i+1] = y[i]\n",
    "    for i in np.flip(np.arange(1, m)): # computes the first divided\n",
    "        # differences using derivatives\n",
    "        a[2*i+1] = yprime[i]\n",
    "        a[2*i] = (a[2*i]-a[2*i-1]) / (z[2*i]-z[2*i-1])\n",
    "    a[1] = yprime[0]\n",
    "    for j in range(2, l): # computes the rest of the divided differences\n",
    "        for i in np.flip(np.arange(j, l)):\n",
    "            a[i]=(a[i]-a[i-1]) / (z[i]-z[i-j])\n",
    "    return a\n",
    "def hermite(x, y, yprime, w):\n",
    "    m = x.size # here m is the number of data points. not the\n",
    "    # degree of the polynomial\n",
    "    a = hdiff(x, y, yprime)\n",
    "    z = np.zeros(2*m)\n",
    "    for i in range(m):\n",
    "        z[2*i] = x[i]\n",
    "        z[2*i+1] = x[i]\n",
    "    sum = a[0]\n",
    "    pr = 1.0\n",
    "    for j in range(2*m-1):\n",
    "        pr *= w-z[j]\n",
    "        sum += a[j+1]*pr\n",
    "    return sum\n",
    "\n",
    "print(hdiff(np.array([0,0.4,1,2,2.6,3]),np.array([1,0.735,2.17,8.30,14.2,19.1]), np.array([11,-5.04,-5.67,11.5,19.9,21.6])))\n",
    "#plotting\n",
    "xaxis = np.linspace(0,3)\n",
    "x = np.array([0,0.4,1,2,2.6,3])\n",
    "y = np.array([1,0.735,2.17,8.30,14.2,19.1])\n",
    "yprime = np.array([11,-5.04,-5.67,11.5,19.9,21.6])\n",
    "funct = np.exp(xaxis)+np.sin(10*xaxis)\n",
    "interp = hermite(x, y, yprime, xaxis)\n",
    "plt.plot(xaxis, interp, label='Hermite Interpolation')\n",
    "plt.plot(xaxis, funct, label=\"e^x+sin10x\")\n",
    "plt.plot(x, y, 'o', label='data')\n",
    "plt.legend(loc='upper right');"
   ]
  },
  {
   "cell_type": "markdown",
   "metadata": {},
   "source": [
    "# Problem 5 (MATH 5660 ONLY)\n",
    "\n",
    "Limacon is a curve, named after a French word for snail, which appears in the study of planetary motion. The polar equation for the curve is $r=1+c\\sin\\theta$ where $c$ is a constant. Below is a plot of the curve when $c=1$.\n",
    "\n",
    "The $x,y$ coordinates of the dots on the curve are displayed in the following table:\n",
    "\n",
    "| $x$ | 0 | 0.5 | 1 | 1.3 | 0 | -1.3 | -1 |  -0.5 | 0 |\n",
    "| --- | --- | --- | --- |---|---|---|---|---|---|\n",
    "|$y$ | 0 | -0.25 | 0 | 0.71 | 2 | 0.71 | 0 | -0.25 | 0 |\n",
    "\n",
    "\n",
    "Recreate the limacon above, by applying the spline interpolation for plane curves approach used in _Arya and the letter NUH_ example to the points given in the table."
   ]
  }
 ],
 "metadata": {
  "kernelspec": {
   "display_name": "Python 3 (ipykernel)",
   "language": "python",
   "name": "python3"
  },
  "language_info": {
   "codemirror_mode": {
    "name": "ipython",
    "version": 3
   },
   "file_extension": ".py",
   "mimetype": "text/x-python",
   "name": "python",
   "nbconvert_exporter": "python",
   "pygments_lexer": "ipython3",
   "version": "3.9.7"
  },
  "latex_envs": {
   "LaTeX_envs_menu_present": true,
   "autoclose": false,
   "autocomplete": true,
   "bibliofile": "biblio.bib",
   "cite_by": "apalike",
   "current_citInitial": 1,
   "eqLabelWithNumbers": true,
   "eqNumInitial": 1,
   "hotkeys": {
    "equation": "Ctrl-E",
    "itemize": "Ctrl-I"
   },
   "labels_anchors": false,
   "latex_user_defs": false,
   "report_style_numbering": false,
   "user_envs_cfg": false
  },
  "toc": {
   "base_numbering": 1,
   "nav_menu": {},
   "number_sections": true,
   "sideBar": true,
   "skip_h1_title": false,
   "title_cell": "Table of Contents",
   "title_sidebar": "Contents",
   "toc_cell": false,
   "toc_position": {},
   "toc_section_display": true,
   "toc_window_display": false
  }
 },
 "nbformat": 4,
 "nbformat_minor": 2
}
