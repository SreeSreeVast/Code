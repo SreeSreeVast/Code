{
 "cells": [
  {
   "cell_type": "markdown",
   "metadata": {},
   "source": [
    "# Problem 1\n",
    "Calculate the expression that follows in double precision arithmetic using Python for $x = 10^{−1},\\dots,10^{-14}$. Then, using an alternative form of the expression that\n",
    "doesn’t suffer from subtracting nearly equal numbers, repeat the calculation and make a table of results. What do you find?\n",
    "\n",
    "$$\\frac{1-\\sec{x}}{\\tan^2{x}}$$"
   ]
  },
  {
   "cell_type": "code",
   "execution_count": 3,
   "metadata": {},
   "outputs": [
    {
     "name": "stdout",
     "output_type": "stream",
     "text": [
      "  1-secx/tan^2x    -1/1+secx\n",
      "---------------  -----------\n",
      "      -0.498748    -0.498748\n",
      "      -0.499987    -0.499987\n",
      "      -0.5         -0.5\n",
      "      -0.5         -0.5\n",
      "      -0.5         -0.5\n",
      "      -0.500044    -0.5\n",
      "      -0.510703    -0.5\n",
      "       0           -0.5\n",
      "       0           -0.5\n",
      "       0           -0.5\n",
      "       0           -0.5\n",
      "       0           -0.5\n",
      "       0           -0.5\n",
      "       0           -0.5\n"
     ]
    }
   ],
   "source": [
    "import math\n",
    "from mpmath import sec\n",
    "import numpy as np\n",
    "from tabulate import tabulate\n",
    "\n",
    "#1-secx/tan^2x\n",
    "def sol(x):\n",
    "    numerator = 1.0-sec(10**(-x))\n",
    "    denom = (math.tan(10**-x))**2\n",
    "    ans = numerator/(denom)\n",
    "    return ans\n",
    "#-1/1+secx\n",
    "def sol2(x):\n",
    "    numerator = -1.0\n",
    "    denom = 1.0+sec(10**(-x))\n",
    "    ans = -1.0/(denom)\n",
    "    return ans\n",
    "x=[]   \n",
    "for i in range(1,15):\n",
    "    x.append([sol(i),sol2(i)])\n",
    "\n",
    "print(tabulate(x, headers = ['1-secx/tan^2x','-1/1+secx']))"
   ]
  },
  {
   "cell_type": "code",
   "execution_count": 4,
   "metadata": {},
   "outputs": [],
   "source": [
    "#As shown by the table, the second equation does not return 0 after 1e-8. The first equation tends to return 0 as the 1- secx\n",
    "#gets closer and closer to 0. While the second equation, instead will return the rounded number it gets at 1e-3 as it will never\n",
    "#have a numerator of 0. "
   ]
  },
  {
   "cell_type": "markdown",
   "metadata": {},
   "source": [
    "# Problem 2\n",
    "Find the root of $f(x)=x^{3}+4x^{2}-10$ using the bisection method, with the following specifications:\n",
    "\n",
    "a. Modify the Python code for the bisection method so that the only stopping criterion is whether $f(p)=0$ (remove the other criterion from the code). Also, add a print statement to the code, so that every time a new $p$ is computed, Python prints the value of $p$ and the iteration number.\n",
    "\n",
    "b. Find the number of iterations $N$ necessary to obtain an accuracy of $10^{-4}$ for the root, using the theoretical results of Chapter 2-2. (The function $f(x)$ has one real root in $(1,2)$, so set $a=1,b=2$.)\n",
    "\n",
    "c. Run the code using the value for $N$ obtained in part (b) to compute $p_{1},p_{2},...,p_{N}$ (set $a=1,b=2$ in the modified Python code).\n",
    "\n",
    "d. The actual root, correct to six digits, is $p=1.36523$. Find the absolute error when $p_N$ is used to approximate the actual root, that is, find $|p-p_N|$. Compare this error, with the upper bound for the error used in part (b)."
   ]
  },
  {
   "cell_type": "code",
   "execution_count": 10,
   "metadata": {},
   "outputs": [
    {
     "name": "stdout",
     "output_type": "stream",
     "text": [
      "b. since f(1)<0 and f(2)>0, the number of iterations is 15. n>= log2(1/10^-4) which is 13.3. Therefore, the number of iterations is 14+1=15.\n",
      "14.287712379549449\n",
      "c.\n",
      "p is  0.0  and the iteration number is  1\n",
      "p is  1.5  and the iteration number is  2\n",
      "p is  1.25  and the iteration number is  3\n",
      "p is  1.375  and the iteration number is  4\n",
      "p is  1.3125  and the iteration number is  5\n",
      "p is  1.34375  and the iteration number is  6\n",
      "p is  1.359375  and the iteration number is  7\n",
      "p is  1.3671875  and the iteration number is  8\n",
      "p is  1.36328125  and the iteration number is  9\n",
      "p is  1.365234375  and the iteration number is  10\n",
      "p is  1.3642578125  and the iteration number is  11\n",
      "p is  1.36474609375  and the iteration number is  12\n",
      "p is  1.364990234375  and the iteration number is  13\n",
      "p is  1.3651123046875  and the iteration number is  14\n",
      "p is  1.36517333984375  and the iteration number is  15\n",
      "p is  1.365203857421875  and the iteration number is  15\n",
      "d.\n",
      "absolute error is 2.6142578124943583e-05\n"
     ]
    }
   ],
   "source": [
    "import numpy as np\n",
    "def bisection(f, a, b, eps, N):\n",
    "    \"\"\"\n",
    "    Perform the bisection method\n",
    "    input:\n",
    "    f: function, the function f\n",
    "    a, b: float, the left and right ends\n",
    "    eps: float, the tolerance; once (b-a)<eps, stop\n",
    "    N: int, the maximum number of steps to run the algorithm\n",
    "    \"\"\"\n",
    "    n = 1\n",
    "    p = 0. # to ensure the value of p carries out of the while loop\n",
    "    # a.\n",
    "    while n <= N:\n",
    "        print('p is ', p, ' and the iteration number is ', n)\n",
    "        p = a + (b-a)/2\n",
    "        if np.isclose(f(p), 0)or np.abs(a-b)<eps:\n",
    "            print('p is ', p, ' and the iteration number is ', n)\n",
    "            return\n",
    "        if f(a)*f(p) < 0:\n",
    "            b = p\n",
    "        else:\n",
    "            a = p\n",
    "        n += 1\n",
    "    y = f(p)\n",
    "    print('Method did not converge. The last iteration gives ', \n",
    "          p, ' with function value ', y)\n",
    "    \n",
    "###\n",
    "def iter(a,b,eps):\n",
    "    res=math.log2((b-a)/eps)\n",
    "    return res +1\n",
    "print('b. since f(1)<0 and f(2)>0, the number of iterations is 15. n>= log2(1/10^-4) which is 13.3. Therefore, the number of iterations is 14+1=15.')\n",
    "print(iter(1,2,1e-4))\n",
    "print('c.')\n",
    "bisection(lambda x: x**3+4*x**2-10, 1, 2, 1e-4, 15)\n",
    "print('d.')\n",
    "print('absolute error is',abs(1.36523 - 1.365203857421875))\n"
   ]
  },
  {
   "cell_type": "code",
   "execution_count": 6,
   "metadata": {},
   "outputs": [],
   "source": [
    "#the upper bound is greater than the absolute error"
   ]
  },
  {
   "cell_type": "markdown",
   "metadata": {},
   "source": [
    "# Problem 3\n",
    "Find an approximation to $25^{1/3}$ correct to within $10^{-5}$\n",
    "using the bisection algorithm, following the steps below:\n",
    "\n",
    "a. First express the problem as $f(x)=0$ with $p=25^{1/3}$ the root.\n",
    "\n",
    "b. Find an interval $(a,b)$ that contains the root, using Intermediate Value Theorem.\n",
    "\n",
    "c. Determine, analytically, the number of iterations necessary to obtain the accuracy of $10^{-5}$.\n",
    "\n",
    "d. Use the Python code for the bisection method to compute the iterate from (c), and compare the actual absolute error with $10^{-5}$."
   ]
  },
  {
   "cell_type": "code",
   "execution_count": 8,
   "metadata": {},
   "outputs": [
    {
     "name": "stdout",
     "output_type": "stream",
     "text": [
      "-17\n",
      "39\n",
      "18.609640474436812\n",
      "p is  2.9240150451660156  and the iteration number is  19\n",
      "absolute error is  2.693043984258736e-06\n"
     ]
    }
   ],
   "source": [
    "import math\n",
    "#a.\n",
    "def y(x):\n",
    "    return(x**3 -25)\n",
    "#b.\n",
    "#find (a,b), f(a)<0 and f(b)>0\n",
    "print(y(2))\n",
    "print(y(4))\n",
    "#c.\n",
    "def iter(a,b,eps):\n",
    "    res=math.log2((b-a)/eps)\n",
    "    return res +1\n",
    "print(iter(2,4,1e-5))\n",
    "#since f(2)<0 and f(4)>0, n>=log2(2/10^-5) is around 17.6 so the number of iterations is 18+1=19.\n",
    "#d. \n",
    "def bisect(f, a, b, eps, N):\n",
    "    \"\"\"\n",
    "    Perform the bisection method\n",
    "    input:\n",
    "    f: function, the function f\n",
    "    a, b: float, the left and right ends\n",
    "    eps: float, the tolerance; once (b-a)<eps, stop\n",
    "    N: int, the maximum number of steps to run the algorithm\n",
    "    \"\"\"\n",
    "    n = 1\n",
    "    p = 0. # to ensure the value of p carries out of the while loop\n",
    "    while n <= N:\n",
    "        p = a + (b-a)/2\n",
    "        if np.isclose(f(p), 0) or np.abs(a-b)<eps:\n",
    "            print('p is ', p, ' and the iteration number is ', n)\n",
    "            return\n",
    "        if f(a)*f(p) < 0:\n",
    "            b = p\n",
    "        else:\n",
    "            a = p\n",
    "        n += 1\n",
    "    y = f(p)\n",
    "    print('Method did not converge. The last iteration gives ', \n",
    "          p, ' with function value ', y)\n",
    "bisect(lambda x: x**3-25, 2, 4, 1e-5, 19)\n",
    "print('absolute error is ', abs(2.92401773821-2.9240150451660156))"
   ]
  },
  {
   "cell_type": "code",
   "execution_count": null,
   "metadata": {},
   "outputs": [],
   "source": [
    "#The absolute error is smaller than 10^-5"
   ]
  },
  {
   "cell_type": "markdown",
   "metadata": {},
   "source": [
    "# Problem 4 (MATH 5660 ONLY)\n",
    "A particle starts at rest on a smooth inclined plane whose angle $\\theta$ is changing at a constant rate\n",
    "$$\n",
    "\\frac{d\\theta}{dt} = \\omega < 0.\n",
    "$$\n",
    "At the end of $t$ seconds, the position of the object is given by\n",
    "$$\n",
    "x(t) = -\\frac{g}{2\\omega^2}\\left(\\frac{e^{\\omega t}-e^{-\\omega t}}{2}-\\sin{\\omega t}\\right)\n",
    "$$\n",
    "Suppose the particle has moved $1.7$ ft in $1$ s. Find, to within $10^{−5}$, the rate $\\omega$ at which $\\theta$ changes. Assume that $g = 32.17$ $\\text{ft}/\\text{s}^2$."
   ]
  }
 ],
 "metadata": {
  "kernelspec": {
   "display_name": "Python 3 (ipykernel)",
   "language": "python",
   "name": "python3"
  },
  "language_info": {
   "codemirror_mode": {
    "name": "ipython",
    "version": 3
   },
   "file_extension": ".py",
   "mimetype": "text/x-python",
   "name": "python",
   "nbconvert_exporter": "python",
   "pygments_lexer": "ipython3",
   "version": "3.9.7"
  },
  "latex_envs": {
   "LaTeX_envs_menu_present": true,
   "autoclose": false,
   "autocomplete": true,
   "bibliofile": "biblio.bib",
   "cite_by": "apalike",
   "current_citInitial": 1,
   "eqLabelWithNumbers": true,
   "eqNumInitial": 1,
   "hotkeys": {
    "equation": "Ctrl-E",
    "itemize": "Ctrl-I"
   },
   "labels_anchors": false,
   "latex_user_defs": false,
   "report_style_numbering": false,
   "user_envs_cfg": false
  },
  "toc": {
   "base_numbering": 1,
   "nav_menu": {},
   "number_sections": true,
   "sideBar": true,
   "skip_h1_title": false,
   "title_cell": "Table of Contents",
   "title_sidebar": "Contents",
   "toc_cell": false,
   "toc_position": {},
   "toc_section_display": true,
   "toc_window_display": false
  }
 },
 "nbformat": 4,
 "nbformat_minor": 2
}
